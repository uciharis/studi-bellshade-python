{
 "cells": [
  {
   "attachments": {},
   "cell_type": "markdown",
   "metadata": {},
   "source": [
    "Operator digunakan utk melakukan operasi variabel/ value"
   ]
  },
  {
   "cell_type": "code",
   "execution_count": 3,
   "metadata": {},
   "outputs": [
    {
     "name": "stdout",
     "output_type": "stream",
     "text": [
      "10\n",
      "2\n",
      "1.5\n",
      "1296\n",
      "2\n",
      "1\n"
     ]
    }
   ],
   "source": [
    "# A. aritmatik\n",
    "\n",
    "# +, -. *. / , ** (pangkat)\n",
    "# % (modulus), // (floor)\n",
    "a = 6\n",
    "b = 4\n",
    "print(a+b) # output : 10\n",
    "print(a-b) # output : 2\n",
    "print(a/b) # output : 1.5\n",
    "print(a**b) # output : 1296\n",
    "print(a%b) # output : 2\n",
    "print(a//b) # output : 1 (pembulatan kebawah)"
   ]
  },
  {
   "cell_type": "code",
   "execution_count": 5,
   "metadata": {},
   "outputs": [
    {
     "name": "stdout",
     "output_type": "stream",
     "text": [
      "nilaiku =  5\n",
      "nilaiku +=3 adalah 8\n",
      "nilaiku -=1 adalah 6\n",
      "nilaiku /=3 adalah 2\n",
      "bitwise AND nilaiku &=3 adalah 2\n",
      "bitwise OR nilaiku|=3 adalah 3\n",
      "bitwise XOR nilaiku^=2 adalah 1\n",
      "bitwise Right Shift 2>>1 adalah 1\n",
      "bitwise Left shift 2<<1 adalah 4\n"
     ]
    }
   ],
   "source": [
    "# B. penugasan (assignment)\n",
    "# details : https://realpython.com/python-bitwise-operators/\n",
    "\n",
    "# utk menetapkan suatu bilangan ke var\n",
    "# contoh :\n",
    "nilaiku = 5\n",
    "print(\"nilaiku = \",nilaiku)\n",
    "nilaiku +=3 # setara dengan nilaiku = nilaiku + 3\n",
    "print(\"nilaiku +=3 adalah\", nilaiku)\n",
    "nilaiku -=2 # setara nilaiku = nilaiku-1\n",
    "print(\"nilaiku -=1 adalah\", nilaiku)\n",
    "nilaiku //=3 #setara dg nilaiku = nilaiku/3\n",
    "print(\"nilaiku /=3 adalah\", nilaiku)\n",
    "nilaiku&=3 # 2 & 3, dalam bentuk biner 10 & 11\n",
    "# hanya bernilai 1 jika kedua nilai 1 sehingga\n",
    "# 10&11 = 10 atau dalam decimal = 2\n",
    "print(\"bitwise AND nilaiku &=3 adalah\", nilaiku)\n",
    "nilaiku|=3 # 2|3 atau 10 or 11\n",
    "# hanya bernilai 0 jika keduanya 0 shg\n",
    "# 10|11 = 11 atau dalam decimal = 3\n",
    "print(\"bitwise OR nilaiku|=3 adalah\", nilaiku)\n",
    "nilaiku^=2 # 3^2 atau 11^10\n",
    "# hanya bernilai 1 jika salah satu adlh 1, selain itu 0\n",
    "# 11^10 = 01 atau 1 dalam decimak\n",
    "print(\"bitwise XOR nilaiku^=2 adalah\", nilaiku)\n",
    "nilai_a = 2\n",
    "nilai_b = 1\n",
    "# nilai a dan b khusus dipake utk testing bitwise shift\n",
    "bitwise_rightshift = nilai_a>>nilai_b #nilai a digeser b ke kanan\n",
    "# nilai yg digeser dlm bentuk biner\n",
    "# a = 2 (0000 0010) digeser 1 ke kanan\n",
    "# menjadi a = 0000 0001(1)\n",
    "print(\"bitwise Right Shift 2>>1 adalah\", bitwise_rightshift)\n",
    "bitwise_leftshift = nilai_a<<nilai_b #nilai a digeser b ke kiri\n",
    "# a = 2 (0000 0010) digeser 1 ke kiri\n",
    "# menjadi a = 00000100 (4)\n",
    "print(\"bitwise Left shift 2<<1 adalah\", bitwise_leftshift)\n"
   ]
  },
  {
   "cell_type": "code",
   "execution_count": 3,
   "metadata": {},
   "outputs": [
    {
     "name": "stdout",
     "output_type": "stream",
     "text": [
      "1>3 adalah : False\n",
      "3>=2 adalah: True\n"
     ]
    }
   ],
   "source": [
    "# 3. Perbandingan\n",
    "\n",
    "# untuk membandingkan suatu nilai dg nilai lain\n",
    "\n",
    "# == sama dengan\n",
    "# != tidak sama dengan\n",
    "# >,<, <=,>=\n",
    "\n",
    "print(\"1>3 adalah :\", 1>3)\n",
    "print(\"3>=2 adalah:\", 3>=2)"
   ]
  },
  {
   "cell_type": "code",
   "execution_count": 6,
   "metadata": {},
   "outputs": [
    {
     "name": "stdout",
     "output_type": "stream",
     "text": [
      "True\n",
      "False\n",
      "True\n"
     ]
    }
   ],
   "source": [
    "# 4. Keanggotaan\n",
    "\n",
    "# cek anggota dalam suatu kumpulan data\n",
    "\n",
    "bahasa = [\"Js\", \"Java\", \"Python\", \"Kotlin\"]\n",
    "print(\"Js\" in bahasa) # Js ada di list bahasa\n",
    "print(\"PHP\" in bahasa) # PHP tidak ada di list bahasa\n",
    "# atau\n",
    "print(\"PHP\" not in bahasa) # cek bahwa PHP tidak ada dalam list bahasa"
   ]
  },
  {
   "cell_type": "code",
   "execution_count": 10,
   "metadata": {},
   "outputs": [
    {
     "name": "stdout",
     "output_type": "stream",
     "text": [
      "False\n",
      "True\n",
      "integer\n",
      "<class 'int'>\n"
     ]
    }
   ],
   "source": [
    "# 5. Identitas\n",
    "\n",
    "# mengecek/ kompare suatu data\n",
    "# jika nilai sama dan memori sama maka = True\n",
    "print(3 is 7)\n",
    "print(3 is not 7)\n",
    "\n",
    "if (type(3) is not int):\n",
    "    print(\"bukan integer\")\n",
    "else:\n",
    "    print(\"integer\")\n",
    "print(type(3))"
   ]
  }
 ],
 "metadata": {
  "kernelspec": {
   "display_name": "Python 3",
   "language": "python",
   "name": "python3"
  },
  "language_info": {
   "codemirror_mode": {
    "name": "ipython",
    "version": 3
   },
   "file_extension": ".py",
   "mimetype": "text/x-python",
   "name": "python",
   "nbconvert_exporter": "python",
   "pygments_lexer": "ipython3",
   "version": "3.6.15"
  },
  "orig_nbformat": 4
 },
 "nbformat": 4,
 "nbformat_minor": 2
}
