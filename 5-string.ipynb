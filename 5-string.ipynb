{
 "cells": [
  {
   "attachments": {},
   "cell_type": "markdown",
   "metadata": {},
   "source": [
    "Salah satu Tipe data utk simpan huruf atau simbol"
   ]
  },
  {
   "cell_type": "code",
   "execution_count": 2,
   "metadata": {},
   "outputs": [
    {
     "name": "stdout",
     "output_type": "stream",
     "text": [
      "warung\n",
      " saya\n",
      "adalah seorang\n",
      "hengker tzy\n",
      "\n"
     ]
    }
   ],
   "source": [
    "# A. deklarasi  variabel\n",
    "lokasi = \"warung\"\n",
    "# atau\n",
    "lokasi = 'warung' # single quote tidak disarankan\n",
    "print(lokasi)\n",
    "\n",
    "# B. deklarasi variabel Multistring\n",
    "motivasi = \"\"\" saya\n",
    "adalah seorang\n",
    "hengker tzy\n",
    "\"\"\"\n",
    "\n",
    "print(motivasi) # string di dalam 3x double quotes"
   ]
  },
  {
   "cell_type": "code",
   "execution_count": 6,
   "metadata": {},
   "outputs": [
    {
     "name": "stdout",
     "output_type": "stream",
     "text": [
      "JOKO\n",
      "joko\n"
     ]
    }
   ],
   "source": [
    "# C. Built-in Method pada String\n",
    "\n",
    "# upper()\n",
    "# kapitalisasi semua karakter string\n",
    "nama = \"joko\"\n",
    "nama_upper=nama.upper()\n",
    "print(nama_upper)\n",
    "\n",
    "# lower\n",
    "# konvert smua karakter jadi huruf kecil\n",
    "nama_lower=nama.lower()\n",
    "print(nama_lower)\n",
    "\n",
    "# tentang string built in method selengkapnya : https://www.w3schools.com/python/python_ref_string.asp "
   ]
  },
  {
   "cell_type": "code",
   "execution_count": 11,
   "metadata": {},
   "outputs": [
    {
     "name": "stdout",
     "output_type": "stream",
     "text": [
      "huruf index-0 dari merek adalah Y\n",
      "huruf index-1 dari merek adalah a\n"
     ]
    }
   ],
   "source": [
    "# D. Substring string\n",
    "\n",
    "# String (dalam python) dianggap seperti kumpulan dari bberapa char\n",
    "# dapat diambil dg index\n",
    "\n",
    "merek = \"Yamahal\"\n",
    "print(\"huruf index-0 dari merek adalah\", merek[0])\n",
    "print(\"huruf index-1 dari merek adalah\", merek[1])\n"
   ]
  }
 ],
 "metadata": {
  "kernelspec": {
   "display_name": "Python 3",
   "language": "python",
   "name": "python3"
  },
  "language_info": {
   "codemirror_mode": {
    "name": "ipython",
    "version": 3
   },
   "file_extension": ".py",
   "mimetype": "text/x-python",
   "name": "python",
   "nbconvert_exporter": "python",
   "pygments_lexer": "ipython3",
   "version": "3.6.15"
  },
  "orig_nbformat": 4
 },
 "nbformat": 4,
 "nbformat_minor": 2
}
