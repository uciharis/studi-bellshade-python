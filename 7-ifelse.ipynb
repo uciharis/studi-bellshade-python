{
 "cells": [
  {
   "attachments": {},
   "cell_type": "markdown",
   "metadata": {},
   "source": [
    "Logika percabanga\n",
    "\n",
    "mengambil keputusan dari pernyataan\n",
    "\n",
    "contoh :"
   ]
  },
  {
   "cell_type": "code",
   "execution_count": 1,
   "metadata": {},
   "outputs": [
    {
     "name": "stdout",
     "output_type": "stream",
     "text": [
      "ambil payung\n"
     ]
    }
   ],
   "source": [
    "cuaca = \"hujan\"\n",
    "if cuaca == \"hujan\":\n",
    "    print(\"ambil payung\")\n",
    "else:\n",
    "    print(\"santai dulu gak sich\")"
   ]
  }
 ],
 "metadata": {
  "kernelspec": {
   "display_name": "Python 3",
   "language": "python",
   "name": "python3"
  },
  "language_info": {
   "codemirror_mode": {
    "name": "ipython",
    "version": 3
   },
   "file_extension": ".py",
   "mimetype": "text/x-python",
   "name": "python",
   "nbconvert_exporter": "python",
   "pygments_lexer": "ipython3",
   "version": "3.6.15"
  },
  "orig_nbformat": 4
 },
 "nbformat": 4,
 "nbformat_minor": 2
}
