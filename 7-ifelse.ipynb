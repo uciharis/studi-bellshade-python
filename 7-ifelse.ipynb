{
 "cells": [
  {
   "attachments": {},
   "cell_type": "markdown",
   "metadata": {},
   "source": [
    "Logika percabanga\n",
    "\n",
    "mengambil keputusan dari pernyataan\n",
    "\n",
    "contoh :"
   ]
  },
  {
   "cell_type": "code",
   "execution_count": 1,
   "metadata": {},
   "outputs": [
    {
     "name": "stdout",
     "output_type": "stream",
     "text": [
      "ambil payung\n"
     ]
    }
   ],
   "source": [
    "cuaca = \"hujan\"\n",
    "if cuaca == \"hujan\":\n",
    "    print(\"ambil payung\")\n",
    "else:\n",
    "    print(\"santai dulu gak sich\")"
   ]
  },
  {
   "cell_type": "code",
   "execution_count": 3,
   "metadata": {},
   "outputs": [
    {
     "name": "stdout",
     "output_type": "stream",
     "text": [
      "sebaiknya jangan gegabah\n"
     ]
    }
   ],
   "source": [
    "#percabangan lain\n",
    "\n",
    "cuaca=\"mendung\"\n",
    "if cuaca==\"hujan\":\n",
    "    print(\"pakai payung\")\n",
    "elif cuaca==\"cerah\":\n",
    "    print(\"santai dulu gak sih\")\n",
    "else:\n",
    "    print(\"sebaiknya jangan gegabah\")"
   ]
  },
  {
   "cell_type": "code",
   "execution_count": 7,
   "metadata": {},
   "outputs": [
    {
     "name": "stdout",
     "output_type": "stream",
     "text": [
      "kamu bukan udin atau ucok\n"
     ]
    }
   ],
   "source": [
    "nama=input(\"nama kamu siapa?\")\n",
    "if nama==\"udin\":\n",
    "    print(\"nama kamu udin\")\n",
    "elif nama==\"ucok\":\n",
    "    print(\"kamu bukan udin tapi ucok\")\n",
    "else:\n",
    "    print(\"kamu bukan udin atau ucok\")"
   ]
  }
 ],
 "metadata": {
  "kernelspec": {
   "display_name": "Python 3",
   "language": "python",
   "name": "python3"
  },
  "language_info": {
   "codemirror_mode": {
    "name": "ipython",
    "version": 3
   },
   "file_extension": ".py",
   "mimetype": "text/x-python",
   "name": "python",
   "nbconvert_exporter": "python",
   "pygments_lexer": "ipython3",
   "version": "3.6.15"
  },
  "orig_nbformat": 4
 },
 "nbformat": 4,
 "nbformat_minor": 2
}
