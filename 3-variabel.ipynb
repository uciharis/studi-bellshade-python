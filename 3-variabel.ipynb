{
 "cells": [
  {
   "attachments": {},
   "cell_type": "markdown",
   "metadata": {},
   "source": [
    "Variabel adalah wadah menampung value.\n",
    "kita bisa assign variabel tertentu dg variabel lain yang udah ada"
   ]
  },
  {
   "cell_type": "code",
   "execution_count": 1,
   "metadata": {},
   "outputs": [
    {
     "name": "stdout",
     "output_type": "stream",
     "text": [
      "antonio\n"
     ]
    }
   ],
   "source": [
    "# buat variabel nama\n",
    "nama = \"antonio\"\n",
    "# assign variabel baru pake nama\n",
    "name_user = nama\n",
    "print(name_user)\n",
    "\n",
    "# see this : https://peps.python.org/pep-0008/"
   ]
  },
  {
   "cell_type": "code",
   "execution_count": 3,
   "metadata": {},
   "outputs": [],
   "source": [
    "# A. kata tanpa didahului angka\n",
    "\n",
    "# Benar :\n",
    "nama_saya = \"joko\"\n",
    "# Salah :\n",
    "# 1_nama_saya = \"joko\"\n",
    "\n",
    "# B. case sensitive\n",
    "nomor_id=12\n",
    "Nomor_id = 13\n",
    "nomor_ID = 14\n",
    "\n",
    "# C. pake snake case\n",
    "data_user_prioritas = True"
   ]
  }
 ],
 "metadata": {
  "kernelspec": {
   "display_name": "Python 3",
   "language": "python",
   "name": "python3"
  },
  "language_info": {
   "codemirror_mode": {
    "name": "ipython",
    "version": 3
   },
   "file_extension": ".py",
   "mimetype": "text/x-python",
   "name": "python",
   "nbconvert_exporter": "python",
   "pygments_lexer": "ipython3",
   "version": "3.6.15"
  },
  "orig_nbformat": 4
 },
 "nbformat": 4,
 "nbformat_minor": 2
}
