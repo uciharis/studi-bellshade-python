{
 "cells": [
  {
   "attachments": {},
   "cell_type": "markdown",
   "metadata": {},
   "source": [
    "variabel : wadah menyimpan data\n",
    "\n",
    "dg prinsip dynamic typing"
   ]
  },
  {
   "attachments": {},
   "cell_type": "markdown",
   "metadata": {},
   "source": [
    "tipe data dalam python antara lain :"
   ]
  },
  {
   "cell_type": "code",
   "execution_count": 2,
   "metadata": {},
   "outputs": [
    {
     "name": "stdout",
     "output_type": "stream",
     "text": [
      "franklin\n"
     ]
    }
   ],
   "source": [
    "# 1. teks atau string\n",
    "nama_saya = \"franklin\"\n",
    "print(nama_saya)"
   ]
  },
  {
   "cell_type": "code",
   "execution_count": 5,
   "metadata": {},
   "outputs": [
    {
     "name": "stdout",
     "output_type": "stream",
     "text": [
      "25\n",
      "95.3993029\n",
      "(1.5+0j)\n"
     ]
    }
   ],
   "source": [
    "# 2. angka\n",
    "\n",
    "# 2a. int\n",
    "# tipe numerik bilangan bulat\n",
    "umur_user = 25\n",
    "print(umur_user)\n",
    "\n",
    "# 2b. float\n",
    "# numerik berupa bilangan pecahan (float) \n",
    "nilai_user = 95.3993029\n",
    "print(nilai_user)\n",
    "\n",
    "# 2c. komplex\n",
    "# tipe numerik bersifat complex (kombinasi rill dan imajiner ax+b)\n",
    "nilai_komplek_user = complex(1.5)\n",
    "print(nilai_komplek_user)"
   ]
  },
  {
   "cell_type": "code",
   "execution_count": 13,
   "metadata": {},
   "outputs": [
    {
     "name": "stdout",
     "output_type": "stream",
     "text": [
      "['joko', 'jiki', 'jaku', 'joko']\n",
      "('joko', 'jiki', 'juku')\n",
      "{'aha', 'aho'}\n",
      "{'nama': 'joko', 'umur': 36, 'from': 'china'}\n"
     ]
    }
   ],
   "source": [
    "# 3. sebuah urutan (sequential)\n",
    "\n",
    "# 3a. list\n",
    "# koleksi data yang berisi nilai dalam 1 variabel, list pakai [ .. ]\n",
    "# ordered, changeable, allow duplicate\n",
    "nama_user = [\"joko\", \"jiki\", \"jaku\", \"joko\"]\n",
    "print(nama_user)\n",
    "\n",
    "#3b. Tuple\n",
    "# sama seperti list tetapi nilainya unchange-able\n",
    "# we cannot change, add and remove values\n",
    "# allow duplicate\n",
    "# menggunakan ( .. )\n",
    "nama_pengguna = (\"joko\", \"jiki\", \"juku\")\n",
    "print(nama_pengguna)\n",
    "\n",
    "# 3c. set\n",
    "# unchange-able tapi bisa add dan remove value\n",
    "# menggunakan { .. }\n",
    "# disallow duplicate (unique value)\n",
    "# unordered : gbs di referred by index or key\n",
    "nama_user_set = {\"aha\", \"aho\",\"aha\" }\n",
    "print(nama_user_set) #o nly show unique value, not duplicated one\n",
    "\n",
    "# 3d. Dictionary\n",
    "\n",
    "# berbentuk pasangan key: value\n",
    "# ordered, change-able , disallow duplicates\n",
    "# menggunakan { .. }\n",
    "data_user = {\n",
    "    \"nama\" : \"joko\",\n",
    "    \"umur\" : 36,\n",
    "    \"from\" : \"japan\",\n",
    "    \"from\" : \"china\"\n",
    "}\n",
    "print(data_user) # just show unique value and the latest one"
   ]
  }
 ],
 "metadata": {
  "kernelspec": {
   "display_name": "Python 3",
   "language": "python",
   "name": "python3"
  },
  "language_info": {
   "codemirror_mode": {
    "name": "ipython",
    "version": 3
   },
   "file_extension": ".py",
   "mimetype": "text/x-python",
   "name": "python",
   "nbconvert_exporter": "python",
   "pygments_lexer": "ipython3",
   "version": "3.6.15"
  },
  "orig_nbformat": 4
 },
 "nbformat": 4,
 "nbformat_minor": 2
}
